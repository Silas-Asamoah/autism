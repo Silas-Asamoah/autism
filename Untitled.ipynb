{
 "cells": [
  {
   "cell_type": "code",
   "execution_count": 5,
   "metadata": {},
   "outputs": [],
   "source": [
    "import os\n",
    "import numpy as np\n",
    "import pandas as pd\n",
    "import seaborn as sns\n",
    "import matplotlib.pyplot as plt\n",
    "\n",
    "%matplotlib inline"
   ]
  },
  {
   "cell_type": "code",
   "execution_count": 6,
   "metadata": {},
   "outputs": [],
   "source": [
    "df1 = pd.read_csv('Autism_Data.arff')\n",
    "df2 = pd.read_csv('Toddler Autism dataset July 2018.csv')"
   ]
  },
  {
   "cell_type": "code",
   "execution_count": 7,
   "metadata": {},
   "outputs": [
    {
     "data": {
      "text/html": [
       "<div>\n",
       "<style scoped>\n",
       "    .dataframe tbody tr th:only-of-type {\n",
       "        vertical-align: middle;\n",
       "    }\n",
       "\n",
       "    .dataframe tbody tr th {\n",
       "        vertical-align: top;\n",
       "    }\n",
       "\n",
       "    .dataframe thead th {\n",
       "        text-align: right;\n",
       "    }\n",
       "</style>\n",
       "<table border=\"1\" class=\"dataframe\">\n",
       "  <thead>\n",
       "    <tr style=\"text-align: right;\">\n",
       "      <th></th>\n",
       "      <th>A1_Score</th>\n",
       "      <th>A2_Score</th>\n",
       "      <th>A3_Score</th>\n",
       "      <th>A4_Score</th>\n",
       "      <th>A5_Score</th>\n",
       "      <th>A6_Score</th>\n",
       "      <th>A7_Score</th>\n",
       "      <th>A8_Score</th>\n",
       "      <th>A9_Score</th>\n",
       "      <th>A10_Score</th>\n",
       "      <th>...</th>\n",
       "      <th>gender</th>\n",
       "      <th>ethnicity</th>\n",
       "      <th>jundice</th>\n",
       "      <th>austim</th>\n",
       "      <th>contry_of_res</th>\n",
       "      <th>used_app_before</th>\n",
       "      <th>result</th>\n",
       "      <th>age_desc</th>\n",
       "      <th>relation</th>\n",
       "      <th>Class/ASD</th>\n",
       "    </tr>\n",
       "  </thead>\n",
       "  <tbody>\n",
       "    <tr>\n",
       "      <th>0</th>\n",
       "      <td>1</td>\n",
       "      <td>1</td>\n",
       "      <td>1</td>\n",
       "      <td>1</td>\n",
       "      <td>0</td>\n",
       "      <td>0</td>\n",
       "      <td>1</td>\n",
       "      <td>1</td>\n",
       "      <td>0</td>\n",
       "      <td>0</td>\n",
       "      <td>...</td>\n",
       "      <td>f</td>\n",
       "      <td>White-European</td>\n",
       "      <td>no</td>\n",
       "      <td>no</td>\n",
       "      <td>'United States'</td>\n",
       "      <td>no</td>\n",
       "      <td>6</td>\n",
       "      <td>'18 and more'</td>\n",
       "      <td>Self</td>\n",
       "      <td>NO</td>\n",
       "    </tr>\n",
       "    <tr>\n",
       "      <th>1</th>\n",
       "      <td>1</td>\n",
       "      <td>1</td>\n",
       "      <td>0</td>\n",
       "      <td>1</td>\n",
       "      <td>0</td>\n",
       "      <td>0</td>\n",
       "      <td>0</td>\n",
       "      <td>1</td>\n",
       "      <td>0</td>\n",
       "      <td>1</td>\n",
       "      <td>...</td>\n",
       "      <td>m</td>\n",
       "      <td>Latino</td>\n",
       "      <td>no</td>\n",
       "      <td>yes</td>\n",
       "      <td>Brazil</td>\n",
       "      <td>no</td>\n",
       "      <td>5</td>\n",
       "      <td>'18 and more'</td>\n",
       "      <td>Self</td>\n",
       "      <td>NO</td>\n",
       "    </tr>\n",
       "    <tr>\n",
       "      <th>2</th>\n",
       "      <td>1</td>\n",
       "      <td>1</td>\n",
       "      <td>0</td>\n",
       "      <td>1</td>\n",
       "      <td>1</td>\n",
       "      <td>0</td>\n",
       "      <td>1</td>\n",
       "      <td>1</td>\n",
       "      <td>1</td>\n",
       "      <td>1</td>\n",
       "      <td>...</td>\n",
       "      <td>m</td>\n",
       "      <td>Latino</td>\n",
       "      <td>yes</td>\n",
       "      <td>yes</td>\n",
       "      <td>Spain</td>\n",
       "      <td>no</td>\n",
       "      <td>8</td>\n",
       "      <td>'18 and more'</td>\n",
       "      <td>Parent</td>\n",
       "      <td>YES</td>\n",
       "    </tr>\n",
       "    <tr>\n",
       "      <th>3</th>\n",
       "      <td>1</td>\n",
       "      <td>1</td>\n",
       "      <td>0</td>\n",
       "      <td>1</td>\n",
       "      <td>0</td>\n",
       "      <td>0</td>\n",
       "      <td>1</td>\n",
       "      <td>1</td>\n",
       "      <td>0</td>\n",
       "      <td>1</td>\n",
       "      <td>...</td>\n",
       "      <td>f</td>\n",
       "      <td>White-European</td>\n",
       "      <td>no</td>\n",
       "      <td>yes</td>\n",
       "      <td>'United States'</td>\n",
       "      <td>no</td>\n",
       "      <td>6</td>\n",
       "      <td>'18 and more'</td>\n",
       "      <td>Self</td>\n",
       "      <td>NO</td>\n",
       "    </tr>\n",
       "    <tr>\n",
       "      <th>4</th>\n",
       "      <td>1</td>\n",
       "      <td>0</td>\n",
       "      <td>0</td>\n",
       "      <td>0</td>\n",
       "      <td>0</td>\n",
       "      <td>0</td>\n",
       "      <td>0</td>\n",
       "      <td>1</td>\n",
       "      <td>0</td>\n",
       "      <td>0</td>\n",
       "      <td>...</td>\n",
       "      <td>f</td>\n",
       "      <td>?</td>\n",
       "      <td>no</td>\n",
       "      <td>no</td>\n",
       "      <td>Egypt</td>\n",
       "      <td>no</td>\n",
       "      <td>2</td>\n",
       "      <td>'18 and more'</td>\n",
       "      <td>?</td>\n",
       "      <td>NO</td>\n",
       "    </tr>\n",
       "  </tbody>\n",
       "</table>\n",
       "<p>5 rows × 21 columns</p>\n",
       "</div>"
      ],
      "text/plain": [
       "   A1_Score  A2_Score  A3_Score  A4_Score  A5_Score  A6_Score  A7_Score  \\\n",
       "0         1         1         1         1         0         0         1   \n",
       "1         1         1         0         1         0         0         0   \n",
       "2         1         1         0         1         1         0         1   \n",
       "3         1         1         0         1         0         0         1   \n",
       "4         1         0         0         0         0         0         0   \n",
       "\n",
       "   A8_Score  A9_Score  A10_Score    ...    gender       ethnicity jundice  \\\n",
       "0         1         0          0    ...         f  White-European      no   \n",
       "1         1         0          1    ...         m          Latino      no   \n",
       "2         1         1          1    ...         m          Latino     yes   \n",
       "3         1         0          1    ...         f  White-European      no   \n",
       "4         1         0          0    ...         f               ?      no   \n",
       "\n",
       "  austim    contry_of_res used_app_before result       age_desc relation  \\\n",
       "0     no  'United States'              no      6  '18 and more'     Self   \n",
       "1    yes           Brazil              no      5  '18 and more'     Self   \n",
       "2    yes            Spain              no      8  '18 and more'   Parent   \n",
       "3    yes  'United States'              no      6  '18 and more'     Self   \n",
       "4     no            Egypt              no      2  '18 and more'        ?   \n",
       "\n",
       "  Class/ASD  \n",
       "0        NO  \n",
       "1        NO  \n",
       "2       YES  \n",
       "3        NO  \n",
       "4        NO  \n",
       "\n",
       "[5 rows x 21 columns]"
      ]
     },
     "execution_count": 7,
     "metadata": {},
     "output_type": "execute_result"
    }
   ],
   "source": [
    "df1.head()"
   ]
  },
  {
   "cell_type": "code",
   "execution_count": 8,
   "metadata": {},
   "outputs": [
    {
     "name": "stdout",
     "output_type": "stream",
     "text": [
      "<class 'pandas.core.frame.DataFrame'>\n",
      "RangeIndex: 704 entries, 0 to 703\n",
      "Data columns (total 21 columns):\n",
      "A1_Score           704 non-null int64\n",
      "A2_Score           704 non-null int64\n",
      "A3_Score           704 non-null int64\n",
      "A4_Score           704 non-null int64\n",
      "A5_Score           704 non-null int64\n",
      "A6_Score           704 non-null int64\n",
      "A7_Score           704 non-null int64\n",
      "A8_Score           704 non-null int64\n",
      "A9_Score           704 non-null int64\n",
      "A10_Score          704 non-null int64\n",
      "age                704 non-null object\n",
      "gender             704 non-null object\n",
      "ethnicity          704 non-null object\n",
      "jundice            704 non-null object\n",
      "austim             704 non-null object\n",
      "contry_of_res      704 non-null object\n",
      "used_app_before    704 non-null object\n",
      "result             704 non-null int64\n",
      "age_desc           704 non-null object\n",
      "relation           704 non-null object\n",
      "Class/ASD          704 non-null object\n",
      "dtypes: int64(11), object(10)\n",
      "memory usage: 115.6+ KB\n"
     ]
    }
   ],
   "source": [
    "df1.info()"
   ]
  },
  {
   "cell_type": "code",
   "execution_count": 9,
   "metadata": {},
   "outputs": [
    {
     "name": "stdout",
     "output_type": "stream",
     "text": [
      "<class 'pandas.core.frame.DataFrame'>\n",
      "RangeIndex: 1054 entries, 0 to 1053\n",
      "Data columns (total 19 columns):\n",
      "Case_No                   1054 non-null int64\n",
      "A1                        1054 non-null int64\n",
      "A2                        1054 non-null int64\n",
      "A3                        1054 non-null int64\n",
      "A4                        1054 non-null int64\n",
      "A5                        1054 non-null int64\n",
      "A6                        1054 non-null int64\n",
      "A7                        1054 non-null int64\n",
      "A8                        1054 non-null int64\n",
      "A9                        1054 non-null int64\n",
      "A10                       1054 non-null int64\n",
      "Age_Mons                  1054 non-null int64\n",
      "Qchat-10-Score            1054 non-null int64\n",
      "Sex                       1054 non-null object\n",
      "Ethnicity                 1054 non-null object\n",
      "Jaundice                  1054 non-null object\n",
      "Family_mem_with_ASD       1054 non-null object\n",
      "Who completed the test    1054 non-null object\n",
      "Class/ASD Traits          1054 non-null object\n",
      "dtypes: int64(13), object(6)\n",
      "memory usage: 156.5+ KB\n"
     ]
    }
   ],
   "source": [
    "df2.info()"
   ]
  },
  {
   "cell_type": "code",
   "execution_count": 12,
   "metadata": {},
   "outputs": [
    {
     "data": {
      "text/plain": [
       "<matplotlib.axes._subplots.AxesSubplot at 0x7f67202db358>"
      ]
     },
     "execution_count": 12,
     "metadata": {},
     "output_type": "execute_result"
    },
    {
     "data": {
      "image/png": "[encoded data removed]",
      "text/plain": [
       "<matplotlib.figure.Figure at 0x7f672035fa58>"
      ]
     },
     "metadata": {
      "needs_background": "light"
     },
     "output_type": "display_data"
    }
   ],
   "source": [
    "#Autism by Ethnicity\n",
    "df1.groupby(['ethnicity', 'austim']).size().unstack().plot(kind='bar', stacked=True, figsize=(5,5)) "
   ]
  },
  {
   "cell_type": "code",
   "execution_count": 13,
   "metadata": {},
   "outputs": [
    {
     "name": "stderr",
     "output_type": "stream",
     "text": [
      "No handles with labels found to put in legend.\n"
     ]
    },
    {
     "data": {
      "image/png": "[encoded data removed]",
      "text/plain": [
       "<matplotlib.figure.Figure at 0x7f6769cb2e80>"
      ]
     },
     "metadata": {
      "needs_background": "light"
     },
     "output_type": "display_data"
    }
   ],
   "source": [
    "#Number of autism\n",
    "\n",
    "plt.figure(figsize = (14,6))\n",
    "\n",
    "autism = sns.countplot(x='austim', data= df1)\n",
    "\n",
    "autism.set_xticklabels(autism.get_xticklabels(),rotation=90)\n",
    "autism.set_xlabel(\"Autism\", fontsize=15)\n",
    "autism.set_ylabel(\"Autism Count\", fontsize=15)\n",
    "autism.legend(loc='upper left')\n",
    "autism.set_title(\"Analysing Autism Counts\", fontsize=20)\n",
    "\n",
    "plt.show()"
   ]
  },
  {
   "cell_type": "code",
   "execution_count": 14,
   "metadata": {},
   "outputs": [
    {
     "data": {
      "image/png": "[encoded data removed]",
      "text/plain": [
       "<matplotlib.figure.Figure at 0x7f67201ff630>"
      ]
     },
     "metadata": {
      "needs_background": "light"
     },
     "output_type": "display_data"
    }
   ],
   "source": [
    "# Check Correlation\n",
    "corr = df1.corr()\n",
    "\n",
    "plt.figure(figsize=(50,10))\n",
    "\n",
    "ax = sns.heatmap(\n",
    "    corr, \n",
    "    vmin=-1, vmax=1, center=0,\n",
    "    cmap=sns.diverging_palette(20, 220, n=200),\n",
    "    square=True\n",
    ")\n",
    "\n",
    "ax.set_xticklabels(\n",
    "    ax.get_xticklabels(),\n",
    "    rotation=45,\n",
    "    horizontalalignment='right'\n",
    ");"
   ]
  },
  {
   "cell_type": "code",
   "execution_count": 15,
   "metadata": {},
   "outputs": [
    {
     "data": {
      "image/png": "[encoded data removed]",
      "text/plain": [
       "<matplotlib.figure.Figure at 0x7f67201ffc50>"
      ]
     },
     "metadata": {
      "needs_background": "light"
     },
     "output_type": "display_data"
    }
   ],
   "source": [
    "# Check Correlation\n",
    "corr = df2.corr()\n",
    "\n",
    "plt.figure(figsize=(50,10))\n",
    "\n",
    "ax = sns.heatmap(\n",
    "    corr, \n",
    "    vmin=-1, vmax=1, center=0,\n",
    "    cmap=sns.diverging_palette(20, 220, n=200),\n",
    "    square=True\n",
    ")\n",
    "\n",
    "ax.set_xticklabels(\n",
    "    ax.get_xticklabels(),\n",
    "    rotation=45,\n",
    "    horizontalalignment='right'\n",
    ");"
   ]
  },
  {
   "cell_type": "code",
   "execution_count": 17,
   "metadata": {},
   "outputs": [
    {
     "name": "stdout",
     "output_type": "stream",
     "text": [
      "Adults:  26.84659090909091 %\n",
      "Toddlers: 69.07020872865274 %\n"
     ]
    }
   ],
   "source": [
    "data1= df1[df1['Class/ASD']=='YES']\n",
    "data2= df2[df2['Class/ASD Traits ']=='Yes']\n",
    "print(\"Adults: \",len(data1)/len(df1) * 100,\"%\")\n",
    "print(\"Toddlers:\",len(data2)/len(df2) * 100, \"%\")"
   ]
  },
  {
   "cell_type": "code",
   "execution_count": 18,
   "metadata": {},
   "outputs": [
    {
     "data": {
      "text/plain": [
       "Text(0.5,1,'Toddlers dataset')"
      ]
     },
     "execution_count": 18,
     "metadata": {},
     "output_type": "execute_result"
    },
    {
     "data": {
      "image/png": "[encoded data removed]",
      "text/plain": [
       "<matplotlib.figure.Figure at 0x7f6768b70048>"
      ]
     },
     "metadata": {
      "needs_background": "light"
     },
     "output_type": "display_data"
    }
   ],
   "source": [
    "#missing data\n",
    "fig, ax = plt.subplots(1,2,figsize=(20,6))\n",
    "\n",
    "sns.heatmap(data1.isnull(),yticklabels=False,cbar=False,cmap='viridis',ax=ax[0])\n",
    "ax[0].set_title('Adult dataset')\n",
    "\n",
    "sns.heatmap(data2.isnull(),yticklabels=False,cbar=False,cmap='viridis',ax=ax[1])\n",
    "ax[1].set_title('Toddlers dataset')"
   ]
  },
  {
   "cell_type": "code",
   "execution_count": 19,
   "metadata": {},
   "outputs": [
    {
     "data": {
      "text/html": [
       "<div>\n",
       "<style scoped>\n",
       "    .dataframe tbody tr th:only-of-type {\n",
       "        vertical-align: middle;\n",
       "    }\n",
       "\n",
       "    .dataframe tbody tr th {\n",
       "        vertical-align: top;\n",
       "    }\n",
       "\n",
       "    .dataframe thead th {\n",
       "        text-align: right;\n",
       "    }\n",
       "</style>\n",
       "<table border=\"1\" class=\"dataframe\">\n",
       "  <thead>\n",
       "    <tr style=\"text-align: right;\">\n",
       "      <th></th>\n",
       "      <th>Case_No</th>\n",
       "      <th>A1</th>\n",
       "      <th>A2</th>\n",
       "      <th>A3</th>\n",
       "      <th>A4</th>\n",
       "      <th>A5</th>\n",
       "      <th>A6</th>\n",
       "      <th>A7</th>\n",
       "      <th>A8</th>\n",
       "      <th>A9</th>\n",
       "      <th>A10</th>\n",
       "      <th>Age_Mons</th>\n",
       "      <th>Qchat-10-Score</th>\n",
       "      <th>Sex</th>\n",
       "      <th>Ethnicity</th>\n",
       "      <th>Jaundice</th>\n",
       "      <th>Family_mem_with_ASD</th>\n",
       "      <th>Who completed the test</th>\n",
       "      <th>Class/ASD Traits</th>\n",
       "    </tr>\n",
       "  </thead>\n",
       "  <tbody>\n",
       "    <tr>\n",
       "      <th>0</th>\n",
       "      <td>1</td>\n",
       "      <td>0</td>\n",
       "      <td>0</td>\n",
       "      <td>0</td>\n",
       "      <td>0</td>\n",
       "      <td>0</td>\n",
       "      <td>0</td>\n",
       "      <td>1</td>\n",
       "      <td>1</td>\n",
       "      <td>0</td>\n",
       "      <td>1</td>\n",
       "      <td>28</td>\n",
       "      <td>3</td>\n",
       "      <td>f</td>\n",
       "      <td>middle eastern</td>\n",
       "      <td>yes</td>\n",
       "      <td>no</td>\n",
       "      <td>family member</td>\n",
       "      <td>No</td>\n",
       "    </tr>\n",
       "    <tr>\n",
       "      <th>1</th>\n",
       "      <td>2</td>\n",
       "      <td>1</td>\n",
       "      <td>1</td>\n",
       "      <td>0</td>\n",
       "      <td>0</td>\n",
       "      <td>0</td>\n",
       "      <td>1</td>\n",
       "      <td>1</td>\n",
       "      <td>0</td>\n",
       "      <td>0</td>\n",
       "      <td>0</td>\n",
       "      <td>36</td>\n",
       "      <td>4</td>\n",
       "      <td>m</td>\n",
       "      <td>White European</td>\n",
       "      <td>yes</td>\n",
       "      <td>no</td>\n",
       "      <td>family member</td>\n",
       "      <td>Yes</td>\n",
       "    </tr>\n",
       "    <tr>\n",
       "      <th>2</th>\n",
       "      <td>3</td>\n",
       "      <td>1</td>\n",
       "      <td>0</td>\n",
       "      <td>0</td>\n",
       "      <td>0</td>\n",
       "      <td>0</td>\n",
       "      <td>0</td>\n",
       "      <td>1</td>\n",
       "      <td>1</td>\n",
       "      <td>0</td>\n",
       "      <td>1</td>\n",
       "      <td>36</td>\n",
       "      <td>4</td>\n",
       "      <td>m</td>\n",
       "      <td>middle eastern</td>\n",
       "      <td>yes</td>\n",
       "      <td>no</td>\n",
       "      <td>family member</td>\n",
       "      <td>Yes</td>\n",
       "    </tr>\n",
       "    <tr>\n",
       "      <th>3</th>\n",
       "      <td>4</td>\n",
       "      <td>1</td>\n",
       "      <td>1</td>\n",
       "      <td>1</td>\n",
       "      <td>1</td>\n",
       "      <td>1</td>\n",
       "      <td>1</td>\n",
       "      <td>1</td>\n",
       "      <td>1</td>\n",
       "      <td>1</td>\n",
       "      <td>1</td>\n",
       "      <td>24</td>\n",
       "      <td>10</td>\n",
       "      <td>m</td>\n",
       "      <td>Hispanic</td>\n",
       "      <td>no</td>\n",
       "      <td>no</td>\n",
       "      <td>family member</td>\n",
       "      <td>Yes</td>\n",
       "    </tr>\n",
       "    <tr>\n",
       "      <th>4</th>\n",
       "      <td>5</td>\n",
       "      <td>1</td>\n",
       "      <td>1</td>\n",
       "      <td>0</td>\n",
       "      <td>1</td>\n",
       "      <td>1</td>\n",
       "      <td>1</td>\n",
       "      <td>1</td>\n",
       "      <td>1</td>\n",
       "      <td>1</td>\n",
       "      <td>1</td>\n",
       "      <td>20</td>\n",
       "      <td>9</td>\n",
       "      <td>f</td>\n",
       "      <td>White European</td>\n",
       "      <td>no</td>\n",
       "      <td>yes</td>\n",
       "      <td>family member</td>\n",
       "      <td>Yes</td>\n",
       "    </tr>\n",
       "  </tbody>\n",
       "</table>\n",
       "</div>"
      ],
      "text/plain": [
       "   Case_No  A1  A2  A3  A4  A5  A6  A7  A8  A9  A10  Age_Mons  Qchat-10-Score  \\\n",
       "0        1   0   0   0   0   0   0   1   1   0    1        28               3   \n",
       "1        2   1   1   0   0   0   1   1   0   0    0        36               4   \n",
       "2        3   1   0   0   0   0   0   1   1   0    1        36               4   \n",
       "3        4   1   1   1   1   1   1   1   1   1    1        24              10   \n",
       "4        5   1   1   0   1   1   1   1   1   1    1        20               9   \n",
       "\n",
       "  Sex       Ethnicity Jaundice Family_mem_with_ASD Who completed the test  \\\n",
       "0   f  middle eastern      yes                  no          family member   \n",
       "1   m  White European      yes                  no          family member   \n",
       "2   m  middle eastern      yes                  no          family member   \n",
       "3   m        Hispanic       no                  no          family member   \n",
       "4   f  White European       no                 yes          family member   \n",
       "\n",
       "  Class/ASD Traits   \n",
       "0                No  \n",
       "1               Yes  \n",
       "2               Yes  \n",
       "3               Yes  \n",
       "4               Yes  "
      ]
     },
     "execution_count": 19,
     "metadata": {},
     "output_type": "execute_result"
    }
   ],
   "source": [
    "df2.head() "
   ]
  },
  {
   "cell_type": "code",
   "execution_count": 22,
   "metadata": {},
   "outputs": [
    {
     "data": {
      "text/plain": [
       "Index(['Case_No', 'A1', 'A2', 'A3', 'A4', 'A5', 'A6', 'A7', 'A8', 'A9', 'A10',\n",
       "       'Age_Mons', 'Qchat-10-Score', 'Sex', 'Ethnicity', 'Jaundice',\n",
       "       'Family_mem_with_ASD', 'Who completed the test', 'Class/ASD Traits '],\n",
       "      dtype='object')"
      ]
     },
     "execution_count": 22,
     "metadata": {},
     "output_type": "execute_result"
    }
   ],
   "source": [
    "df2.columns"
   ]
  },
  {
   "cell_type": "code",
   "execution_count": 24,
   "metadata": {},
   "outputs": [
    {
     "data": {
      "text/html": [
       "<style  type=\"text/css\" >\n",
       "    #T_ae634e40_b6e0_11e9_9cfc_0c5415318cc9row0_col0 {\n",
       "            background-color:  #008000;\n",
       "        }    #T_ae634e40_b6e0_11e9_9cfc_0c5415318cc9row0_col1 {\n",
       "            background-color:  #008000;\n",
       "        }    #T_ae634e40_b6e0_11e9_9cfc_0c5415318cc9row0_col2 {\n",
       "            background-color:  #008000;\n",
       "        }    #T_ae634e40_b6e0_11e9_9cfc_0c5415318cc9row0_col3 {\n",
       "            background-color:  #008000;\n",
       "        }    #T_ae634e40_b6e0_11e9_9cfc_0c5415318cc9row0_col4 {\n",
       "            background-color:  #e5ffe5;\n",
       "        }    #T_ae634e40_b6e0_11e9_9cfc_0c5415318cc9row0_col5 {\n",
       "            background-color:  #e5ffe5;\n",
       "        }    #T_ae634e40_b6e0_11e9_9cfc_0c5415318cc9row0_col6 {\n",
       "            background-color:  #e5ffe5;\n",
       "        }    #T_ae634e40_b6e0_11e9_9cfc_0c5415318cc9row0_col7 {\n",
       "            background-color:  #e5ffe5;\n",
       "        }    #T_ae634e40_b6e0_11e9_9cfc_0c5415318cc9row0_col8 {\n",
       "            background-color:  #e5ffe5;\n",
       "        }    #T_ae634e40_b6e0_11e9_9cfc_0c5415318cc9row0_col9 {\n",
       "            background-color:  #e5ffe5;\n",
       "        }    #T_ae634e40_b6e0_11e9_9cfc_0c5415318cc9row0_col10 {\n",
       "            background-color:  #e5ffe5;\n",
       "        }    #T_ae634e40_b6e0_11e9_9cfc_0c5415318cc9row1_col0 {\n",
       "            background-color:  #e5ffe5;\n",
       "        }    #T_ae634e40_b6e0_11e9_9cfc_0c5415318cc9row1_col1 {\n",
       "            background-color:  #e5ffe5;\n",
       "        }    #T_ae634e40_b6e0_11e9_9cfc_0c5415318cc9row1_col2 {\n",
       "            background-color:  #e5ffe5;\n",
       "        }    #T_ae634e40_b6e0_11e9_9cfc_0c5415318cc9row1_col3 {\n",
       "            background-color:  #e5ffe5;\n",
       "        }    #T_ae634e40_b6e0_11e9_9cfc_0c5415318cc9row1_col4 {\n",
       "            background-color:  #008000;\n",
       "        }    #T_ae634e40_b6e0_11e9_9cfc_0c5415318cc9row1_col5 {\n",
       "            background-color:  #008000;\n",
       "        }    #T_ae634e40_b6e0_11e9_9cfc_0c5415318cc9row1_col6 {\n",
       "            background-color:  #008000;\n",
       "        }    #T_ae634e40_b6e0_11e9_9cfc_0c5415318cc9row1_col7 {\n",
       "            background-color:  #008000;\n",
       "        }    #T_ae634e40_b6e0_11e9_9cfc_0c5415318cc9row1_col8 {\n",
       "            background-color:  #008000;\n",
       "        }    #T_ae634e40_b6e0_11e9_9cfc_0c5415318cc9row1_col9 {\n",
       "            background-color:  #008000;\n",
       "        }    #T_ae634e40_b6e0_11e9_9cfc_0c5415318cc9row1_col10 {\n",
       "            background-color:  #008000;\n",
       "        }</style>  \n",
       "<table id=\"T_ae634e40_b6e0_11e9_9cfc_0c5415318cc9\" > \n",
       "<thead>    <tr> \n",
       "        <th class=\"index_name level0\" >Qchat-10-Score</th> \n",
       "        <th class=\"col_heading level0 col0\" >0</th> \n",
       "        <th class=\"col_heading level0 col1\" >1</th> \n",
       "        <th class=\"col_heading level0 col2\" >2</th> \n",
       "        <th class=\"col_heading level0 col3\" >3</th> \n",
       "        <th class=\"col_heading level0 col4\" >4</th> \n",
       "        <th class=\"col_heading level0 col5\" >5</th> \n",
       "        <th class=\"col_heading level0 col6\" >6</th> \n",
       "        <th class=\"col_heading level0 col7\" >7</th> \n",
       "        <th class=\"col_heading level0 col8\" >8</th> \n",
       "        <th class=\"col_heading level0 col9\" >9</th> \n",
       "        <th class=\"col_heading level0 col10\" >10</th> \n",
       "    </tr>    <tr> \n",
       "        <th class=\"index_name level0\" >Class/ASD Traits </th> \n",
       "        <th class=\"blank\" ></th> \n",
       "        <th class=\"blank\" ></th> \n",
       "        <th class=\"blank\" ></th> \n",
       "        <th class=\"blank\" ></th> \n",
       "        <th class=\"blank\" ></th> \n",
       "        <th class=\"blank\" ></th> \n",
       "        <th class=\"blank\" ></th> \n",
       "        <th class=\"blank\" ></th> \n",
       "        <th class=\"blank\" ></th> \n",
       "        <th class=\"blank\" ></th> \n",
       "        <th class=\"blank\" ></th> \n",
       "    </tr></thead> \n",
       "<tbody>    <tr> \n",
       "        <th id=\"T_ae634e40_b6e0_11e9_9cfc_0c5415318cc9level0_row0\" class=\"row_heading level0 row0\" >No</th> \n",
       "        <td id=\"T_ae634e40_b6e0_11e9_9cfc_0c5415318cc9row0_col0\" class=\"data row0 col0\" >54</td> \n",
       "        <td id=\"T_ae634e40_b6e0_11e9_9cfc_0c5415318cc9row0_col1\" class=\"data row0 col1\" >88</td> \n",
       "        <td id=\"T_ae634e40_b6e0_11e9_9cfc_0c5415318cc9row0_col2\" class=\"data row0 col2\" >88</td> \n",
       "        <td id=\"T_ae634e40_b6e0_11e9_9cfc_0c5415318cc9row0_col3\" class=\"data row0 col3\" >96</td> \n",
       "        <td id=\"T_ae634e40_b6e0_11e9_9cfc_0c5415318cc9row0_col4\" class=\"data row0 col4\" >0</td> \n",
       "        <td id=\"T_ae634e40_b6e0_11e9_9cfc_0c5415318cc9row0_col5\" class=\"data row0 col5\" >0</td> \n",
       "        <td id=\"T_ae634e40_b6e0_11e9_9cfc_0c5415318cc9row0_col6\" class=\"data row0 col6\" >0</td> \n",
       "        <td id=\"T_ae634e40_b6e0_11e9_9cfc_0c5415318cc9row0_col7\" class=\"data row0 col7\" >0</td> \n",
       "        <td id=\"T_ae634e40_b6e0_11e9_9cfc_0c5415318cc9row0_col8\" class=\"data row0 col8\" >0</td> \n",
       "        <td id=\"T_ae634e40_b6e0_11e9_9cfc_0c5415318cc9row0_col9\" class=\"data row0 col9\" >0</td> \n",
       "        <td id=\"T_ae634e40_b6e0_11e9_9cfc_0c5415318cc9row0_col10\" class=\"data row0 col10\" >0</td> \n",
       "    </tr>    <tr> \n",
       "        <th id=\"T_ae634e40_b6e0_11e9_9cfc_0c5415318cc9level0_row1\" class=\"row_heading level0 row1\" >Yes</th> \n",
       "        <td id=\"T_ae634e40_b6e0_11e9_9cfc_0c5415318cc9row1_col0\" class=\"data row1 col0\" >0</td> \n",
       "        <td id=\"T_ae634e40_b6e0_11e9_9cfc_0c5415318cc9row1_col1\" class=\"data row1 col1\" >0</td> \n",
       "        <td id=\"T_ae634e40_b6e0_11e9_9cfc_0c5415318cc9row1_col2\" class=\"data row1 col2\" >0</td> \n",
       "        <td id=\"T_ae634e40_b6e0_11e9_9cfc_0c5415318cc9row1_col3\" class=\"data row1 col3\" >0</td> \n",
       "        <td id=\"T_ae634e40_b6e0_11e9_9cfc_0c5415318cc9row1_col4\" class=\"data row1 col4\" >110</td> \n",
       "        <td id=\"T_ae634e40_b6e0_11e9_9cfc_0c5415318cc9row1_col5\" class=\"data row1 col5\" >120</td> \n",
       "        <td id=\"T_ae634e40_b6e0_11e9_9cfc_0c5415318cc9row1_col6\" class=\"data row1 col6\" >96</td> \n",
       "        <td id=\"T_ae634e40_b6e0_11e9_9cfc_0c5415318cc9row1_col7\" class=\"data row1 col7\" >135</td> \n",
       "        <td id=\"T_ae634e40_b6e0_11e9_9cfc_0c5415318cc9row1_col8\" class=\"data row1 col8\" >97</td> \n",
       "        <td id=\"T_ae634e40_b6e0_11e9_9cfc_0c5415318cc9row1_col9\" class=\"data row1 col9\" >95</td> \n",
       "        <td id=\"T_ae634e40_b6e0_11e9_9cfc_0c5415318cc9row1_col10\" class=\"data row1 col10\" >75</td> \n",
       "    </tr></tbody> \n",
       "</table> "
      ],
      "text/plain": [
       "<pandas.io.formats.style.Styler at 0x7f6769cb81d0>"
      ]
     },
     "execution_count": 24,
     "metadata": {},
     "output_type": "execute_result"
    }
   ],
   "source": [
    "#Qchat-10-Score and Autism\n",
    "aut_qchat = [ 'Class/ASD Traits ', 'Qchat-10-Score']\n",
    "\n",
    "cm = sns.light_palette(\"green\", as_cmap=True)\n",
    "pd.crosstab(df2[aut_qchat[0]], df2[aut_qchat[1]]).style.background_gradient(cmap=cm) "
   ]
  },
  {
   "cell_type": "code",
   "execution_count": 25,
   "metadata": {},
   "outputs": [
    {
     "name": "stderr",
     "output_type": "stream",
     "text": [
      "No handles with labels found to put in legend.\n"
     ]
    },
    {
     "data": {
      "image/png": "[encoded data removed]",
      "text/plain": [
       "<matplotlib.figure.Figure at 0x7f6768b920b8>"
      ]
     },
     "metadata": {
      "needs_background": "light"
     },
     "output_type": "display_data"
    }
   ],
   "source": [
    "#Number of autism\n",
    "\n",
    "plt.figure(figsize = (14,6))\n",
    "\n",
    "class_trait = sns.countplot(x='Class/ASD Traits ', data= df2)\n",
    "\n",
    "class_trait.set_xticklabels(class_trait.get_xticklabels(),rotation=90)\n",
    "class_trait.set_xlabel(\"Autism\", fontsize=15)\n",
    "class_trait.set_ylabel(\"Autism Count\", fontsize=15)\n",
    "class_trait.legend(loc='upper left')\n",
    "class_trait.set_title(\"Analysing Class/ASD Traits\", fontsize=20)\n",
    "\n",
    "plt.show()"
   ]
  }
 ],
 "metadata": {
  "kernelspec": {
   "display_name": "Python 3",
   "language": "python",
   "name": "python3"
  },
  "language_info": {
   "codemirror_mode": {
    "name": "ipython",
    "version": 3
   },
   "file_extension": ".py",
   "mimetype": "text/x-python",
   "name": "python",
   "nbconvert_exporter": "python",
   "pygments_lexer": "ipython3",
   "version": "3.6.8"
  }
 },
 "nbformat": 4,
 "nbformat_minor": 2
}
